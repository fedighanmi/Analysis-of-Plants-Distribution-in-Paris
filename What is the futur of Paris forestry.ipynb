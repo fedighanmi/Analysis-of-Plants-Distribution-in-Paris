{
 "cells": [
  {
   "cell_type": "markdown",
   "id": "9a21997c",
   "metadata": {},
   "source": [
    "# Exploratory Data Analysis: Paris trees\n",
    "#### Fedi GHANMI\n",
    "\n",
    "In this Notebook, I will :\n",
    "\n",
    "- Present the data I have in hand, recite my assumptions and explore my data\n",
    "- Choose an angle of study and explain phenomenas to reach a conclusion."
   ]
  },
  {
   "cell_type": "code",
   "execution_count": null,
   "id": "aa4c2fd4",
   "metadata": {},
   "outputs": [],
   "source": [
    "# Package import\n",
    "\n",
    "import pandas as pd\n",
    "from dataprep.eda import *\n",
    "import re\n",
    "import plotly.express as px\n",
    "import matplotlib.pyplot as plt\n",
    "%matplotlib inline\n",
    "import seaborn as sns\n",
    "import pandoc\n",
    "\n",
    "# ignore warnings library\n",
    "import warnings\n",
    "warnings.filterwarnings(\"ignore\")"
   ]
  },
  {
   "cell_type": "code",
   "execution_count": null,
   "id": "988f36b0",
   "metadata": {},
   "outputs": [],
   "source": [
    "# mini algorithms for the purpose of preprocessing\n",
    "\n",
    "def int_regex(text):\n",
    "    \"\"\"Keep only int number from string\"\"\"\n",
    "    return re.sub(r'\\D', '', text)\n",
    "\n",
    "\n",
    "def get_rounding(ville):\n",
    "    \"\"\" Get the district number based on city name \"\"\"\n",
    "    if ville == \"BOIS DE VINCENNES\":\n",
    "        return 12\n",
    "\n",
    "    elif (ville == \"HAUTS-DE-SEINE\") or (ville == \"VAL-DE-MARNE\") or (ville == \"SEINE-SAINT-DENIS\"):\n",
    "        return 3\n",
    "\n",
    "    elif ville == \"BOIS DE BOULOGNE\":\n",
    "        return 16\n",
    "\n",
    "    else:\n",
    "        return 'Missing'"
   ]
  },
  {
   "cell_type": "markdown",
   "id": "0f29eb8e",
   "metadata": {},
   "source": [
    "###  Load the Data and Perform Needed preprocessings.\n",
    "- Load data in csv format.\n",
    "- Delete non informative columns.\n",
    "- Split geo_point_2d columns into Latitude column and longitude column\n",
    "- Preprocess \"ARRONDISSEMENT\" columns to keep it purely numbers.\n"
   ]
  },
  {
   "cell_type": "code",
   "execution_count": null,
   "id": "23b8d130",
   "metadata": {},
   "outputs": [],
   "source": [
    "# Data Loading\n",
    "paris_trees_set1 = pd.read_csv(\"data_csv/paris_trees_set1.csv\", low_memory= False)\n",
    "paris_trees_set2 = pd.read_csv(\"data_csv/paris_trees_set2.csv\", low_memory= False)\n",
    "\n",
    "paris_trees = paris_trees_set1.append(paris_trees_set2, ignore_index=True)\n",
    "claims = pd.read_csv(\"data_csv/dans-ma-rue.csv\", low_memory=False, sep=\";\")"
   ]
  },
  {
   "cell_type": "markdown",
   "id": "bb964426",
   "metadata": {},
   "source": [
    "We have 11 columns and more than 200k observations, which corresponds to more than 200k tree planted across Paris.\n",
    "- We will assume that this is the most up-to-date data of Paris trees since the data source indicates that 29 Septemnber 2022 was the last modification date of the data.\n",
    "- We will assume that the data posted by the source is true and reflects trees distribution in Paris."
   ]
  },
  {
   "cell_type": "code",
   "execution_count": null,
   "id": "fdb5f256",
   "metadata": {},
   "outputs": [],
   "source": [
    "paris_trees.head()"
   ]
  },
  {
   "cell_type": "code",
   "execution_count": null,
   "id": "86b0991a",
   "metadata": {},
   "outputs": [],
   "source": [
    "# delete non informative columns\n",
    "\n",
    "non_info_cols_paris = [\"IDBASE\", \"TYPE EMPLACEMENT\", \"COMPLEMENT ADRESSE\",\n",
    "                      \"NUMERO\", \"IDEMPLACEMENT\", \"REMARQUABLE\"]\n",
    "non_info_cols_claims = [\"ID DECLARATION\", \"TYPE DECLARATION\", \"SOUS TYPE DECLARATION\",\n",
    "                       \"VILLE\", \"DATE DECLARATION\", \"OUTIL SOURCE\", \"INTERVENANT\",\n",
    "                       \"ID_DMR\", \"geo_shape\", \"mois_annee_decla\"]\n",
    "\n",
    "paris_trees.drop(non_info_cols_paris, inplace=True, axis = 1)\n",
    "claims.drop(non_info_cols_claims, inplace = True, axis = 1)"
   ]
  },
  {
   "cell_type": "code",
   "execution_count": null,
   "id": "a72bb0fd",
   "metadata": {},
   "outputs": [],
   "source": [
    "# splitting column into two other columns\n",
    "\n",
    "claims['latitude'] = claims['geo_point_2d'].apply(\n",
    "    lambda x: float(x[0:x.find(\",\")]) if not pd.isnull(x) else x)\n",
    "claims['longitude'] = claims['geo_point_2d'].apply(\n",
    "    lambda x: float(x[x.find(\",\")+1:-1]) if not pd.isnull(x) else x)"
   ]
  },
  {
   "cell_type": "code",
   "execution_count": null,
   "id": "231aa378",
   "metadata": {},
   "outputs": [],
   "source": [
    "# splitting column into two other columns\n",
    "\n",
    "paris_trees['latitude'] = paris_trees['geo_point_2d'].apply(\n",
    "    lambda x: float(x[0:x.find(\",\")]) if not pd.isnull(x) else x)\n",
    "paris_trees['longitude'] = paris_trees['geo_point_2d'].apply(\n",
    "    lambda x: float(x[x.find(\",\")+1:-1]) if not pd.isnull(x) else x)"
   ]
  },
  {
   "cell_type": "code",
   "execution_count": null,
   "id": "7ca5d770",
   "metadata": {},
   "outputs": [],
   "source": [
    "# Keeping \"ARRONDISSEMENT\" Column clean.\n",
    "\n",
    "paris_trees['ARRONDISSEMENT'] = paris_trees['ARRONDISSEMENT'].apply(\n",
    "    lambda x: int_regex(x) if any(chr.isdigit() for chr in x) else x)\n",
    "paris_trees['ARRONDISSEMENT'] = paris_trees['ARRONDISSEMENT'].apply(\n",
    "    lambda x: get_rounding(x) if not any(chr.isdigit() for chr in x) else x)\n",
    "\n",
    "paris_trees[\"ARRONDISSEMENT\"] = paris_trees[\"ARRONDISSEMENT\"].astype(int)"
   ]
  },
  {
   "cell_type": "markdown",
   "id": "f03ef293",
   "metadata": {},
   "source": [
    "### Start Analysis\n",
    "- Describe some statistical features of data variables\n",
    "- Search for meaning and insight."
   ]
  },
  {
   "cell_type": "code",
   "execution_count": null,
   "id": "586e9f49",
   "metadata": {},
   "outputs": [],
   "source": [
    "# Plot Box plot\n",
    "plot(paris_trees, \"latitude\" , display=[\"Box Plot\"])"
   ]
  },
  {
   "cell_type": "code",
   "execution_count": null,
   "id": "4ba50339",
   "metadata": {},
   "outputs": [],
   "source": [
    "# Plot Box plot\n",
    "plot(paris_trees, \"longitude\", display=[\"Box Plot\"])"
   ]
  },
  {
   "cell_type": "markdown",
   "id": "3690f3d6",
   "metadata": {},
   "source": [
    "**Description**: These 2 bar plots Shows the ranges of latitude and longitude limits of our data. for the latitude, it goes from 48.76 to 48.91 and a longitude of 2.21 to 2.47. These ranges corresponds to the delimitations of paris districts. From 1st to 20th district. (Arrondissement). We can see that our 25% quantile and 75% quantile exist in the range of respective latitude and longitude of 48.83 to 48.87 and 2.3 to 2.83. Since our observations in our data are trees, we can conclude that more than 50% of our trees exist in these cooridnates. **But what are these coordinates exactly ?**"
   ]
  },
  {
   "cell_type": "code",
   "execution_count": null,
   "id": "7b80ebe6",
   "metadata": {},
   "outputs": [],
   "source": [
    "# Plot Viz\n",
    "plot(paris_trees, \"DOMANIALITE\",  display=[\"Bar Chart\", \"Value Table\"])"
   ]
  },
  {
   "cell_type": "markdown",
   "id": "a7098dd1",
   "metadata": {},
   "source": [
    "**Description**: In paris we have more than 200 thousand trees planted. If we check our Bar Chart, we see that \"alignement\" type of trees are very abundant with more than 100 thousand tree across paris with a percentage of more than 50% of the total green space of paris. Next in line are \"Jardin\" and \"Cimeterie\" which if combined reach around 40% of paris green space."
   ]
  },
  {
   "cell_type": "code",
   "execution_count": null,
   "id": "13c74b70",
   "metadata": {},
   "outputs": [],
   "source": [
    "# subsetting of paris trees into aligmenent and jardin\n",
    "\n",
    "alignement = paris_trees.loc[\n",
    "    paris_trees[\"DOMANIALITE\"] == \"Alignement\",:]\n",
    "jardin = paris_trees.loc[\n",
    "    paris_trees[\"DOMANIALITE\"] == \"Jardin\",:]"
   ]
  },
  {
   "cell_type": "code",
   "execution_count": null,
   "id": "b3cb3983",
   "metadata": {},
   "outputs": [],
   "source": [
    "# Plot vizualization\n",
    "plot(alignement, \"GENRE\", display=[\"Pie Chart\", \"Value Table\"])"
   ]
  },
  {
   "cell_type": "markdown",
   "id": "dcaeb840",
   "metadata": {},
   "source": [
    "**Description**: Alignement trees are mainly constituted of Platanus strain. This strain account for more than 30% of alignement trees across Paris. Aesculus and Tilia are less frequent but still exist with good proportions ranging respectively to 15% and 11%. Below are some images of these strains, which are actually familiar to us."
   ]
  },
  {
   "cell_type": "markdown",
   "id": "70d795dd",
   "metadata": {},
   "source": [
    "**Platanus**:"
   ]
  },
  {
   "cell_type": "markdown",
   "id": "79e64154",
   "metadata": {},
   "source": [
    "<img src=\"data_img/Platanus_orientalis_leaves.jpg\">"
   ]
  },
  {
   "cell_type": "markdown",
   "id": "994b76cc",
   "metadata": {},
   "source": [
    "<img src=\"data_img/platanus.jpg\">"
   ]
  },
  {
   "cell_type": "markdown",
   "id": "6127106f",
   "metadata": {},
   "source": [
    "**Aesculus**"
   ]
  },
  {
   "cell_type": "markdown",
   "id": "3e0e4f61",
   "metadata": {},
   "source": [
    "<img src=\"data_img/aesculus-hippocastanum.jpg\">"
   ]
  },
  {
   "cell_type": "code",
   "execution_count": null,
   "id": "5d71856a",
   "metadata": {},
   "outputs": [],
   "source": [
    "# Plot Pie chart\n",
    "plot(jardin, \"GENRE\", display=[\"Pie Chart\", \"Value Table\"])"
   ]
  },
  {
   "cell_type": "markdown",
   "id": "911cdcc6",
   "metadata": {},
   "source": [
    "**Description :** If we check the trees distribution in the gardens \"jardin\", we see that gardin trees are very diversified and there is no one strain that is dominating garden trees. In the Pie Chart, we see equally colored sections in the upper half, and a big pie in the lower half that represents all other minority strains!\n",
    "\n",
    "**Another POV :** all these trees and strains are aged differently, so how is their distribution according to their age?"
   ]
  },
  {
   "cell_type": "code",
   "execution_count": null,
   "id": "db61d9f5",
   "metadata": {},
   "outputs": [],
   "source": [
    "# Plot Statistics\n",
    "plot(paris_trees, \"HAUTEUR (m)\", display=[\"Stats\"])"
   ]
  },
  {
   "cell_type": "markdown",
   "id": "87f32b7e",
   "metadata": {},
   "source": [
    "**Description :** if we study the variable stats, more than 12% of our trees have zero height. which means they are recently planted (having less than 1 meter height). Our variable median is equal to 8 meaning more than 50% of trees have a height superior to 8 meters. having a mean of around 8.7 indicate that trees height distribution is more or less normally distributed with a small positive skewness. meaning that most of our trees revolves around a height of 8.7 meters."
   ]
  },
  {
   "cell_type": "code",
   "execution_count": null,
   "id": "38f2d57e",
   "metadata": {},
   "outputs": [],
   "source": [
    "# more than 50% of our plants are mature(70cm cironference)\n",
    "plot(paris_trees, \"CIRCONFERENCE (cm)\", display=[\"Stats\"])"
   ]
  },
  {
   "cell_type": "markdown",
   "id": "642291eb",
   "metadata": {},
   "source": [
    "**Description :** For the width of these plants or trees, we observe that we have a mean of 81 cm and a deviation of 62 cm. This huge deviation is due to some outliers that have unkown origins. if we see the maximum value, it is written 2246 cm, which is an irregularity obviously. but for the 95th percentile, we see trees having 200cm width."
   ]
  },
  {
   "cell_type": "code",
   "execution_count": null,
   "id": "d1381ec4",
   "metadata": {},
   "outputs": [],
   "source": [
    "# Plot Scatter Plot\n",
    "fig = px.scatter(paris_trees.sample(5000, random_state=1), x=\"CIRCONFERENCE (cm)\", y='HAUTEUR (m)')\n",
    "fig.show()"
   ]
  },
  {
   "cell_type": "markdown",
   "id": "8b146b86",
   "metadata": {},
   "source": [
    "**Description :** The scatter plot of these 2 variables indicate a positive correlation between them. which is totally normal. The more a plant has bigger width we expect it to have a higher height."
   ]
  },
  {
   "cell_type": "code",
   "execution_count": null,
   "id": "dffd9be5",
   "metadata": {},
   "outputs": [],
   "source": [
    "# Plot Heatmap\n",
    "plot_correlation(paris_trees, display=[\"Pearson\"])"
   ]
  },
  {
   "cell_type": "markdown",
   "id": "a251140e",
   "metadata": {},
   "source": [
    "**Description of Height and width :** According to this heatmap, Width and height are correlated with a 80% pearson coefficient. This can mean that 80% of the time when a plant has higher width, it has higher height. But we expected this relationship for all plants. What happened to the rest of the 20%? We can explain that 20% of the times can be due to difference in plant strains. Some strains may reach a limit in its width while having a lesser height than another strain."
   ]
  },
  {
   "cell_type": "markdown",
   "id": "48d531fb",
   "metadata": {},
   "source": [
    "**Description of other variables :** For the remaining variables, we see a very weak correlation, suggesting there is not a direct relashionship between latitude, longitude, and districts between each other."
   ]
  },
  {
   "cell_type": "markdown",
   "id": "6cbb8a6a",
   "metadata": {},
   "source": [
    "**Another POV :** Now after studying the types of plants, their strain and their variable correlations, let us examine their location in relation to paris districts."
   ]
  },
  {
   "cell_type": "code",
   "execution_count": null,
   "id": "e570120a",
   "metadata": {},
   "outputs": [],
   "source": [
    "# Subsetting and Map Display\n",
    "\n",
    "arrondissement_paris = pd.DataFrame(pd.pivot_table(paris_trees, index=[\"ARRONDISSEMENT\"] \n",
    "                                                   ,aggfunc=\"size\"), columns=[\"Occurences\"])\n",
    "arrondissement_rec = pd.DataFrame(pd.pivot_table(claims, index=[\"ARRONDISSEMENT\"] ,aggfunc=\"size\"),\n",
    "                                  columns=[\"Occurences\"])"
   ]
  },
  {
   "cell_type": "markdown",
   "id": "c73ae4f6",
   "metadata": {},
   "source": [
    "<img src=\"data_img/paris_arbres.png\">"
   ]
  },
  {
   "cell_type": "markdown",
   "id": "8e62622c",
   "metadata": {},
   "source": [
    "**Description :** The distribution of trees across paris is generalized in the above map. The greener the district, the more trees it have, ranging from 500 trees to the greenest district which have more than 25k plants. We notice that the outer districts are more rich in plants than the inner ones. Starting from the 12th district until the 20th (last) one. Since 2020, The French republic released an application which is called \"Dans ma Rue\". Its purpose is to declare or claim online to the municipality any aberration that may happen on the streets. Among all of these claims, we will study the distribution of complaints regarding trees and plants."
   ]
  },
  {
   "cell_type": "code",
   "execution_count": null,
   "id": "4f9f8fbe",
   "metadata": {},
   "outputs": [],
   "source": [
    "# Plot Value Table\n",
    "plot(claims, \"ANNEE DECLARATION\", display=[\"Value Table\"])"
   ]
  },
  {
   "cell_type": "markdown",
   "id": "a5bd18dc",
   "metadata": {},
   "source": [
    "**Description :** According to this Value Table, we see that our historic data is uptodate and contains the past 2 years complaints with half of all complaints are of 2021 and the other half in 2022."
   ]
  },
  {
   "cell_type": "markdown",
   "id": "94cc598f",
   "metadata": {},
   "source": [
    "<img src= \"data_img/paris_rec.png\" >"
   ]
  },
  {
   "cell_type": "markdown",
   "id": "fdbcc870",
   "metadata": {},
   "source": [
    "**Description :** The distribution of complaints have the same color gradients as of distribution of trees. with a more red area containing more complaints. These complaints range from 80 claims to more than 800 per district. We see also the 15th district having the most complaints in all of paris. But why is that ?"
   ]
  },
  {
   "cell_type": "code",
   "execution_count": null,
   "id": "d1ee7afc",
   "metadata": {},
   "outputs": [],
   "source": [
    "# Subsetting\n",
    "\n",
    "paris_lat_long = paris_trees.drop([\"LIEU / ADRESSE\", \"LIBELLE FRANCAIS\", \"geo_point_2d\"], axis = 1)\n",
    "paris_ext= paris_lat_long.loc[(paris_lat_long[\"ARRONDISSEMENT\"] >= 12), :]\n",
    "paris_int= paris_lat_long.loc[(paris_lat_long[\"ARRONDISSEMENT\"] < 12), :]"
   ]
  },
  {
   "cell_type": "code",
   "execution_count": null,
   "id": "1573ef48",
   "metadata": {},
   "outputs": [],
   "source": [
    "# cimeterie = 40% > 35% du zone exterieur.\n",
    "plot(paris_int, \"DOMANIALITE\", display=[\"Pie Chart\"])"
   ]
  },
  {
   "cell_type": "markdown",
   "id": "956f9f6a",
   "metadata": {},
   "source": [
    "**Description :** The above pie chart summarizes the type of forestry in the interior districs from first to 12th district. we see around 40% are for cimeteries and the other 40% is for alignement. and a minority percentage for gardens reaching 13% of green spaces. Having small number of complaints in these regions may only conclude that cimeteries and alignement are in good shape."
   ]
  },
  {
   "cell_type": "code",
   "execution_count": null,
   "id": "2229e0ad",
   "metadata": {},
   "outputs": [],
   "source": [
    "# Plot Pie Chart\n",
    "plot(paris_ext, \"DOMANIALITE\", display=[\"Pie Chart\"])"
   ]
  },
  {
   "cell_type": "markdown",
   "id": "6203f504",
   "metadata": {},
   "source": [
    "**description :** The pie Chart above summarizes the types of plants on the exterior part of paris. Districts from 12 to 20. We see that 55% are alignement plants and surprisingly about 30% are Gardens. We can thus explain the important number of complaints due to maybe not clean gardens. garden not well maintained by the municipality, overflow of vegetation, ... "
   ]
  },
  {
   "cell_type": "code",
   "execution_count": null,
   "id": "b9807a11",
   "metadata": {},
   "outputs": [],
   "source": [
    "# Subtype declaration word cloud display\n",
    "claims_dec = pd.read_csv(\"data_csv/dans-ma-rue_v2.csv\", low_memory= False, sep=\";\")\n",
    "claims_dec_ext = claims_dec.loc[claims_dec[\"ARRONDISSEMENT\"] >= 12,:]\n",
    "plot(claims_dec_ext, \"SOUS TYPE DECLARATION\", display=[\"Word Cloud\"])"
   ]
  },
  {
   "cell_type": "markdown",
   "id": "86e2bf8a",
   "metadata": {},
   "source": [
    "**Description :** The word cloud above summarizes the complaints posted by users of the applications. We see the words arbre, herbes, animaux, insecteprésence, jardiniere, animal, rat, ... All of these vocabulary confirms what we previously concluded. Gardens are not well maintained. So we ask the question: **What is the future of Paris forestry?**"
   ]
  },
  {
   "cell_type": "markdown",
   "id": "ea3ca716",
   "metadata": {},
   "source": [
    "**Conclusion :** Dans ma rue application has helped gather data about areas which needs most taking care of. The only thing remaining now is to act upon this data and save paris forestry!"
   ]
  }
 ],
 "metadata": {
  "kernelspec": {
   "display_name": "Python 3 (ipykernel)",
   "language": "python",
   "name": "python3"
  },
  "language_info": {
   "codemirror_mode": {
    "name": "ipython",
    "version": 3
   },
   "file_extension": ".py",
   "mimetype": "text/x-python",
   "name": "python",
   "nbconvert_exporter": "python",
   "pygments_lexer": "ipython3",
   "version": "3.10.4"
  }
 },
 "nbformat": 4,
 "nbformat_minor": 5
}
